{
 "cells": [
  {
   "cell_type": "code",
   "execution_count": 3,
   "metadata": {},
   "outputs": [],
   "source": [
    "import game_v2"
   ]
  },
  {
   "cell_type": "code",
   "execution_count": 4,
   "metadata": {},
   "outputs": [
    {
     "name": "stdout",
     "output_type": "stream",
     "text": [
      "Ваш алгоритм угадывает число в среднем за: 483 попыток\n"
     ]
    },
    {
     "data": {
      "text/plain": [
       "483"
      ]
     },
     "execution_count": 4,
     "metadata": {},
     "output_type": "execute_result"
    }
   ],
   "source": [
    "game_v2.score_game(game_v2.random_predict)"
   ]
  },
  {
   "cell_type": "markdown",
   "metadata": {},
   "source": [
    "# Игра угадай число\n",
    "## Угадываем рандомно:"
   ]
  },
  {
   "cell_type": "code",
   "execution_count": 5,
   "metadata": {},
   "outputs": [
    {
     "name": "stdout",
     "output_type": "stream",
     "text": [
      "Ваш алгоритм угадывает число в среднем за: 483 попыток\n"
     ]
    },
    {
     "data": {
      "text/plain": [
       "483"
      ]
     },
     "execution_count": 5,
     "metadata": {},
     "output_type": "execute_result"
    }
   ],
   "source": [
    "from game_v2 import score_game\n",
    "from game_v2 import random_predict\n",
    "score_game(random_predict) #вызов функции"
   ]
  },
  {
   "cell_type": "code",
   "execution_count": 6,
   "metadata": {},
   "outputs": [],
   "source": [
    "n = 10\n",
    "z = n\n",
    "n = 5"
   ]
  },
  {
   "cell_type": "code",
   "execution_count": 7,
   "metadata": {},
   "outputs": [],
   "source": [
    "x = 65"
   ]
  },
  {
   "cell_type": "code",
   "execution_count": 9,
   "metadata": {},
   "outputs": [
    {
     "name": "stdout",
     "output_type": "stream",
     "text": [
      "Requirement already satisfied: notebook in c:\\users\\илья\\appdata\\local\\programs\\python\\python39\\lib\\site-packages (7.3.3)\n",
      "Requirement already satisfied: jupyterlab<4.4,>=4.3.6 in c:\\users\\илья\\appdata\\local\\programs\\python\\python39\\lib\\site-packages (from notebook) (4.3.6)\n",
      "Requirement already satisfied: jupyter-server<3,>=2.4.0 in c:\\users\\илья\\appdata\\local\\programs\\python\\python39\\lib\\site-packages (from notebook) (2.15.0)\n",
      "Requirement already satisfied: notebook-shim<0.3,>=0.2 in c:\\users\\илья\\appdata\\local\\programs\\python\\python39\\lib\\site-packages (from notebook) (0.2.4)\n",
      "Requirement already satisfied: jupyterlab-server<3,>=2.27.1 in c:\\users\\илья\\appdata\\local\\programs\\python\\python39\\lib\\site-packages (from notebook) (2.27.3)\n",
      "Requirement already satisfied: tornado>=6.2.0 in c:\\users\\илья\\appdata\\roaming\\python\\python39\\site-packages (from notebook) (6.4.2)\n",
      "Requirement already satisfied: prometheus-client>=0.9 in c:\\users\\илья\\appdata\\local\\programs\\python\\python39\\lib\\site-packages (from jupyter-server<3,>=2.4.0->notebook) (0.21.1)\n",
      "Requirement already satisfied: websocket-client>=1.7 in c:\\users\\илья\\appdata\\local\\programs\\python\\python39\\lib\\site-packages (from jupyter-server<3,>=2.4.0->notebook) (1.8.0)\n",
      "Requirement already satisfied: packaging>=22.0 in c:\\users\\илья\\appdata\\roaming\\python\\python39\\site-packages (from jupyter-server<3,>=2.4.0->notebook) (24.2)\n",
      "Requirement already satisfied: jinja2>=3.0.3 in c:\\users\\илья\\appdata\\local\\programs\\python\\python39\\lib\\site-packages (from jupyter-server<3,>=2.4.0->notebook) (3.1.6)\n",
      "Requirement already satisfied: jupyter-core!=5.0.*,>=4.12 in c:\\users\\илья\\appdata\\roaming\\python\\python39\\site-packages (from jupyter-server<3,>=2.4.0->notebook) (5.7.2)\n",
      "Requirement already satisfied: jupyter-client>=7.4.4 in c:\\users\\илья\\appdata\\roaming\\python\\python39\\site-packages (from jupyter-server<3,>=2.4.0->notebook) (8.6.3)\n",
      "Requirement already satisfied: pywinpty>=2.0.1 in c:\\users\\илья\\appdata\\local\\programs\\python\\python39\\lib\\site-packages (from jupyter-server<3,>=2.4.0->notebook) (2.0.15)\n",
      "Requirement already satisfied: overrides>=5.0 in c:\\users\\илья\\appdata\\local\\programs\\python\\python39\\lib\\site-packages (from jupyter-server<3,>=2.4.0->notebook) (7.7.0)\n",
      "Requirement already satisfied: anyio>=3.1.0 in c:\\users\\илья\\appdata\\local\\programs\\python\\python39\\lib\\site-packages (from jupyter-server<3,>=2.4.0->notebook) (4.9.0)\n",
      "Requirement already satisfied: pyzmq>=24 in c:\\users\\илья\\appdata\\roaming\\python\\python39\\site-packages (from jupyter-server<3,>=2.4.0->notebook) (26.4.0)\n",
      "Requirement already satisfied: terminado>=0.8.3 in c:\\users\\илья\\appdata\\local\\programs\\python\\python39\\lib\\site-packages (from jupyter-server<3,>=2.4.0->notebook) (0.18.1)\n",
      "Requirement already satisfied: nbformat>=5.3.0 in c:\\users\\илья\\appdata\\local\\programs\\python\\python39\\lib\\site-packages (from jupyter-server<3,>=2.4.0->notebook) (5.10.4)\n",
      "Requirement already satisfied: argon2-cffi>=21.1 in c:\\users\\илья\\appdata\\local\\programs\\python\\python39\\lib\\site-packages (from jupyter-server<3,>=2.4.0->notebook) (23.1.0)\n",
      "Requirement already satisfied: send2trash>=1.8.2 in c:\\users\\илья\\appdata\\local\\programs\\python\\python39\\lib\\site-packages (from jupyter-server<3,>=2.4.0->notebook) (1.8.3)\n",
      "Requirement already satisfied: jupyter-server-terminals>=0.4.4 in c:\\users\\илья\\appdata\\local\\programs\\python\\python39\\lib\\site-packages (from jupyter-server<3,>=2.4.0->notebook) (0.5.3)\n",
      "Requirement already satisfied: traitlets>=5.6.0 in c:\\users\\илья\\appdata\\roaming\\python\\python39\\site-packages (from jupyter-server<3,>=2.4.0->notebook) (5.14.3)\n",
      "Requirement already satisfied: jupyter-events>=0.11.0 in c:\\users\\илья\\appdata\\local\\programs\\python\\python39\\lib\\site-packages (from jupyter-server<3,>=2.4.0->notebook) (0.12.0)\n",
      "Requirement already satisfied: nbconvert>=6.4.4 in c:\\users\\илья\\appdata\\local\\programs\\python\\python39\\lib\\site-packages (from jupyter-server<3,>=2.4.0->notebook) (7.16.6)\n",
      "Requirement already satisfied: exceptiongroup>=1.0.2 in c:\\users\\илья\\appdata\\roaming\\python\\python39\\site-packages (from anyio>=3.1.0->jupyter-server<3,>=2.4.0->notebook) (1.2.2)\n",
      "Requirement already satisfied: sniffio>=1.1 in c:\\users\\илья\\appdata\\local\\programs\\python\\python39\\lib\\site-packages (from anyio>=3.1.0->jupyter-server<3,>=2.4.0->notebook) (1.3.1)\n",
      "Requirement already satisfied: idna>=2.8 in c:\\users\\илья\\appdata\\local\\programs\\python\\python39\\lib\\site-packages (from anyio>=3.1.0->jupyter-server<3,>=2.4.0->notebook) (3.10)\n",
      "Requirement already satisfied: typing_extensions>=4.5 in c:\\users\\илья\\appdata\\roaming\\python\\python39\\site-packages (from anyio>=3.1.0->jupyter-server<3,>=2.4.0->notebook) (4.13.1)\n",
      "Requirement already satisfied: argon2-cffi-bindings in c:\\users\\илья\\appdata\\local\\programs\\python\\python39\\lib\\site-packages (from argon2-cffi>=21.1->jupyter-server<3,>=2.4.0->notebook) (21.2.0)\n",
      "Requirement already satisfied: MarkupSafe>=2.0 in c:\\users\\илья\\appdata\\local\\programs\\python\\python39\\lib\\site-packages (from jinja2>=3.0.3->jupyter-server<3,>=2.4.0->notebook) (3.0.2)\n",
      "Requirement already satisfied: python-dateutil>=2.8.2 in c:\\users\\илья\\appdata\\roaming\\python\\python39\\site-packages (from jupyter-client>=7.4.4->jupyter-server<3,>=2.4.0->notebook) (2.9.0.post0)\n",
      "Requirement already satisfied: importlib-metadata>=4.8.3 in c:\\users\\илья\\appdata\\roaming\\python\\python39\\site-packages (from jupyter-client>=7.4.4->jupyter-server<3,>=2.4.0->notebook) (8.6.1)\n",
      "Requirement already satisfied: zipp>=3.20 in c:\\users\\илья\\appdata\\roaming\\python\\python39\\site-packages (from importlib-metadata>=4.8.3->jupyter-client>=7.4.4->jupyter-server<3,>=2.4.0->notebook) (3.21.0)\n",
      "Requirement already satisfied: platformdirs>=2.5 in c:\\users\\илья\\appdata\\roaming\\python\\python39\\site-packages (from jupyter-core!=5.0.*,>=4.12->jupyter-server<3,>=2.4.0->notebook) (4.3.7)\n",
      "Requirement already satisfied: pywin32>=300 in c:\\users\\илья\\appdata\\roaming\\python\\python39\\site-packages (from jupyter-core!=5.0.*,>=4.12->jupyter-server<3,>=2.4.0->notebook) (310)\n",
      "Requirement already satisfied: jsonschema[format-nongpl]>=4.18.0 in c:\\users\\илья\\appdata\\local\\programs\\python\\python39\\lib\\site-packages (from jupyter-events>=0.11.0->jupyter-server<3,>=2.4.0->notebook) (4.23.0)\n",
      "Requirement already satisfied: rfc3986-validator>=0.1.1 in c:\\users\\илья\\appdata\\local\\programs\\python\\python39\\lib\\site-packages (from jupyter-events>=0.11.0->jupyter-server<3,>=2.4.0->notebook) (0.1.1)\n",
      "Requirement already satisfied: rfc3339-validator in c:\\users\\илья\\appdata\\local\\programs\\python\\python39\\lib\\site-packages (from jupyter-events>=0.11.0->jupyter-server<3,>=2.4.0->notebook) (0.1.4)\n",
      "Requirement already satisfied: python-json-logger>=2.0.4 in c:\\users\\илья\\appdata\\local\\programs\\python\\python39\\lib\\site-packages (from jupyter-events>=0.11.0->jupyter-server<3,>=2.4.0->notebook) (3.3.0)\n",
      "Requirement already satisfied: pyyaml>=5.3 in c:\\users\\илья\\appdata\\local\\programs\\python\\python39\\lib\\site-packages (from jupyter-events>=0.11.0->jupyter-server<3,>=2.4.0->notebook) (6.0.2)\n",
      "Requirement already satisfied: referencing in c:\\users\\илья\\appdata\\local\\programs\\python\\python39\\lib\\site-packages (from jupyter-events>=0.11.0->jupyter-server<3,>=2.4.0->notebook) (0.36.2)\n",
      "Requirement already satisfied: jsonschema-specifications>=2023.03.6 in c:\\users\\илья\\appdata\\local\\programs\\python\\python39\\lib\\site-packages (from jsonschema[format-nongpl]>=4.18.0->jupyter-events>=0.11.0->jupyter-server<3,>=2.4.0->notebook) (2024.10.1)\n",
      "Requirement already satisfied: rpds-py>=0.7.1 in c:\\users\\илья\\appdata\\local\\programs\\python\\python39\\lib\\site-packages (from jsonschema[format-nongpl]>=4.18.0->jupyter-events>=0.11.0->jupyter-server<3,>=2.4.0->notebook) (0.24.0)\n",
      "Requirement already satisfied: attrs>=22.2.0 in c:\\users\\илья\\appdata\\local\\programs\\python\\python39\\lib\\site-packages (from jsonschema[format-nongpl]>=4.18.0->jupyter-events>=0.11.0->jupyter-server<3,>=2.4.0->notebook) (25.3.0)\n",
      "Requirement already satisfied: jsonpointer>1.13 in c:\\users\\илья\\appdata\\local\\programs\\python\\python39\\lib\\site-packages (from jsonschema[format-nongpl]>=4.18.0->jupyter-events>=0.11.0->jupyter-server<3,>=2.4.0->notebook) (3.0.0)\n",
      "Requirement already satisfied: isoduration in c:\\users\\илья\\appdata\\local\\programs\\python\\python39\\lib\\site-packages (from jsonschema[format-nongpl]>=4.18.0->jupyter-events>=0.11.0->jupyter-server<3,>=2.4.0->notebook) (20.11.0)\n",
      "Requirement already satisfied: fqdn in c:\\users\\илья\\appdata\\local\\programs\\python\\python39\\lib\\site-packages (from jsonschema[format-nongpl]>=4.18.0->jupyter-events>=0.11.0->jupyter-server<3,>=2.4.0->notebook) (1.5.1)\n",
      "Requirement already satisfied: webcolors>=24.6.0 in c:\\users\\илья\\appdata\\local\\programs\\python\\python39\\lib\\site-packages (from jsonschema[format-nongpl]>=4.18.0->jupyter-events>=0.11.0->jupyter-server<3,>=2.4.0->notebook) (24.11.1)\n",
      "Requirement already satisfied: uri-template in c:\\users\\илья\\appdata\\local\\programs\\python\\python39\\lib\\site-packages (from jsonschema[format-nongpl]>=4.18.0->jupyter-events>=0.11.0->jupyter-server<3,>=2.4.0->notebook) (1.3.0)\n",
      "Requirement already satisfied: httpx>=0.25.0 in c:\\users\\илья\\appdata\\local\\programs\\python\\python39\\lib\\site-packages (from jupyterlab<4.4,>=4.3.6->notebook) (0.28.1)\n",
      "Requirement already satisfied: jupyter-lsp>=2.0.0 in c:\\users\\илья\\appdata\\local\\programs\\python\\python39\\lib\\site-packages (from jupyterlab<4.4,>=4.3.6->notebook) (2.2.5)\n",
      "Requirement already satisfied: ipykernel>=6.5.0 in c:\\users\\илья\\appdata\\roaming\\python\\python39\\site-packages (from jupyterlab<4.4,>=4.3.6->notebook) (6.29.5)\n",
      "Requirement already satisfied: async-lru>=1.0.0 in c:\\users\\илья\\appdata\\local\\programs\\python\\python39\\lib\\site-packages (from jupyterlab<4.4,>=4.3.6->notebook) (2.0.5)\n",
      "Requirement already satisfied: setuptools>=40.8.0 in c:\\users\\илья\\appdata\\local\\programs\\python\\python39\\lib\\site-packages (from jupyterlab<4.4,>=4.3.6->notebook) (58.1.0)\n",
      "Requirement already satisfied: tomli>=1.2.2 in c:\\users\\илья\\appdata\\local\\programs\\python\\python39\\lib\\site-packages (from jupyterlab<4.4,>=4.3.6->notebook) (2.2.1)\n",
      "Requirement already satisfied: httpcore==1.* in c:\\users\\илья\\appdata\\local\\programs\\python\\python39\\lib\\site-packages (from httpx>=0.25.0->jupyterlab<4.4,>=4.3.6->notebook) (1.0.7)\n",
      "Requirement already satisfied: certifi in c:\\users\\илья\\appdata\\local\\programs\\python\\python39\\lib\\site-packages (from httpx>=0.25.0->jupyterlab<4.4,>=4.3.6->notebook) (2025.1.31)\n",
      "Requirement already satisfied: h11<0.15,>=0.13 in c:\\users\\илья\\appdata\\local\\programs\\python\\python39\\lib\\site-packages (from httpcore==1.*->httpx>=0.25.0->jupyterlab<4.4,>=4.3.6->notebook) (0.14.0)\n",
      "Requirement already satisfied: comm>=0.1.1 in c:\\users\\илья\\appdata\\roaming\\python\\python39\\site-packages (from ipykernel>=6.5.0->jupyterlab<4.4,>=4.3.6->notebook) (0.2.2)\n",
      "Requirement already satisfied: ipython>=7.23.1 in c:\\users\\илья\\appdata\\roaming\\python\\python39\\site-packages (from ipykernel>=6.5.0->jupyterlab<4.4,>=4.3.6->notebook) (8.18.1)\n",
      "Requirement already satisfied: nest-asyncio in c:\\users\\илья\\appdata\\roaming\\python\\python39\\site-packages (from ipykernel>=6.5.0->jupyterlab<4.4,>=4.3.6->notebook) (1.6.0)\n",
      "Requirement already satisfied: matplotlib-inline>=0.1 in c:\\users\\илья\\appdata\\roaming\\python\\python39\\site-packages (from ipykernel>=6.5.0->jupyterlab<4.4,>=4.3.6->notebook) (0.1.7)\n",
      "Requirement already satisfied: debugpy>=1.6.5 in c:\\users\\илья\\appdata\\roaming\\python\\python39\\site-packages (from ipykernel>=6.5.0->jupyterlab<4.4,>=4.3.6->notebook) (1.8.13)\n",
      "Requirement already satisfied: psutil in c:\\users\\илья\\appdata\\roaming\\python\\python39\\site-packages (from ipykernel>=6.5.0->jupyterlab<4.4,>=4.3.6->notebook) (7.0.0)\n",
      "Requirement already satisfied: colorama in c:\\users\\илья\\appdata\\roaming\\python\\python39\\site-packages (from ipython>=7.23.1->ipykernel>=6.5.0->jupyterlab<4.4,>=4.3.6->notebook) (0.4.6)\n",
      "Requirement already satisfied: pygments>=2.4.0 in c:\\users\\илья\\appdata\\roaming\\python\\python39\\site-packages (from ipython>=7.23.1->ipykernel>=6.5.0->jupyterlab<4.4,>=4.3.6->notebook) (2.19.1)\n",
      "Requirement already satisfied: decorator in c:\\users\\илья\\appdata\\roaming\\python\\python39\\site-packages (from ipython>=7.23.1->ipykernel>=6.5.0->jupyterlab<4.4,>=4.3.6->notebook) (5.2.1)\n",
      "Requirement already satisfied: stack-data in c:\\users\\илья\\appdata\\roaming\\python\\python39\\site-packages (from ipython>=7.23.1->ipykernel>=6.5.0->jupyterlab<4.4,>=4.3.6->notebook) (0.6.3)\n",
      "Requirement already satisfied: prompt-toolkit<3.1.0,>=3.0.41 in c:\\users\\илья\\appdata\\roaming\\python\\python39\\site-packages (from ipython>=7.23.1->ipykernel>=6.5.0->jupyterlab<4.4,>=4.3.6->notebook) (3.0.50)\n",
      "Requirement already satisfied: jedi>=0.16 in c:\\users\\илья\\appdata\\roaming\\python\\python39\\site-packages (from ipython>=7.23.1->ipykernel>=6.5.0->jupyterlab<4.4,>=4.3.6->notebook) (0.19.2)\n",
      "Requirement already satisfied: parso<0.9.0,>=0.8.4 in c:\\users\\илья\\appdata\\roaming\\python\\python39\\site-packages (from jedi>=0.16->ipython>=7.23.1->ipykernel>=6.5.0->jupyterlab<4.4,>=4.3.6->notebook) (0.8.4)\n",
      "Requirement already satisfied: babel>=2.10 in c:\\users\\илья\\appdata\\local\\programs\\python\\python39\\lib\\site-packages (from jupyterlab-server<3,>=2.27.1->notebook) (2.17.0)\n",
      "Requirement already satisfied: json5>=0.9.0 in c:\\users\\илья\\appdata\\local\\programs\\python\\python39\\lib\\site-packages (from jupyterlab-server<3,>=2.27.1->notebook) (0.12.0)\n",
      "Requirement already satisfied: requests>=2.31 in c:\\users\\илья\\appdata\\local\\programs\\python\\python39\\lib\\site-packages (from jupyterlab-server<3,>=2.27.1->notebook) (2.32.3)\n",
      "Requirement already satisfied: beautifulsoup4 in c:\\users\\илья\\appdata\\local\\programs\\python\\python39\\lib\\site-packages (from nbconvert>=6.4.4->jupyter-server<3,>=2.4.0->notebook) (4.13.3)\n",
      "Requirement already satisfied: nbclient>=0.5.0 in c:\\users\\илья\\appdata\\local\\programs\\python\\python39\\lib\\site-packages (from nbconvert>=6.4.4->jupyter-server<3,>=2.4.0->notebook) (0.10.2)\n",
      "Requirement already satisfied: jupyterlab-pygments in c:\\users\\илья\\appdata\\local\\programs\\python\\python39\\lib\\site-packages (from nbconvert>=6.4.4->jupyter-server<3,>=2.4.0->notebook) (0.3.0)\n",
      "Requirement already satisfied: defusedxml in c:\\users\\илья\\appdata\\local\\programs\\python\\python39\\lib\\site-packages (from nbconvert>=6.4.4->jupyter-server<3,>=2.4.0->notebook) (0.7.1)\n",
      "Requirement already satisfied: bleach[css]!=5.0.0 in c:\\users\\илья\\appdata\\local\\programs\\python\\python39\\lib\\site-packages (from nbconvert>=6.4.4->jupyter-server<3,>=2.4.0->notebook) (6.2.0)\n",
      "Requirement already satisfied: pandocfilters>=1.4.1 in c:\\users\\илья\\appdata\\local\\programs\\python\\python39\\lib\\site-packages (from nbconvert>=6.4.4->jupyter-server<3,>=2.4.0->notebook) (1.5.1)\n",
      "Requirement already satisfied: mistune<4,>=2.0.3 in c:\\users\\илья\\appdata\\local\\programs\\python\\python39\\lib\\site-packages (from nbconvert>=6.4.4->jupyter-server<3,>=2.4.0->notebook) (3.1.3)\n",
      "Requirement already satisfied: webencodings in c:\\users\\илья\\appdata\\local\\programs\\python\\python39\\lib\\site-packages (from bleach[css]!=5.0.0->nbconvert>=6.4.4->jupyter-server<3,>=2.4.0->notebook) (0.5.1)\n",
      "Requirement already satisfied: tinycss2<1.5,>=1.1.0 in c:\\users\\илья\\appdata\\local\\programs\\python\\python39\\lib\\site-packages (from bleach[css]!=5.0.0->nbconvert>=6.4.4->jupyter-server<3,>=2.4.0->notebook) (1.4.0)\n",
      "Requirement already satisfied: fastjsonschema>=2.15 in c:\\users\\илья\\appdata\\local\\programs\\python\\python39\\lib\\site-packages (from nbformat>=5.3.0->jupyter-server<3,>=2.4.0->notebook) (2.21.1)\n",
      "Requirement already satisfied: wcwidth in c:\\users\\илья\\appdata\\roaming\\python\\python39\\site-packages (from prompt-toolkit<3.1.0,>=3.0.41->ipython>=7.23.1->ipykernel>=6.5.0->jupyterlab<4.4,>=4.3.6->notebook) (0.2.13)\n",
      "Requirement already satisfied: six>=1.5 in c:\\users\\илья\\appdata\\roaming\\python\\python39\\site-packages (from python-dateutil>=2.8.2->jupyter-client>=7.4.4->jupyter-server<3,>=2.4.0->notebook) (1.17.0)\n",
      "Requirement already satisfied: charset-normalizer<4,>=2 in c:\\users\\илья\\appdata\\local\\programs\\python\\python39\\lib\\site-packages (from requests>=2.31->jupyterlab-server<3,>=2.27.1->notebook) (3.4.1)\n",
      "Requirement already satisfied: urllib3<3,>=1.21.1 in c:\\users\\илья\\appdata\\local\\programs\\python\\python39\\lib\\site-packages (from requests>=2.31->jupyterlab-server<3,>=2.27.1->notebook) (2.3.0)\n",
      "Requirement already satisfied: cffi>=1.0.1 in c:\\users\\илья\\appdata\\local\\programs\\python\\python39\\lib\\site-packages (from argon2-cffi-bindings->argon2-cffi>=21.1->jupyter-server<3,>=2.4.0->notebook) (1.17.1)\n",
      "Requirement already satisfied: pycparser in c:\\users\\илья\\appdata\\local\\programs\\python\\python39\\lib\\site-packages (from cffi>=1.0.1->argon2-cffi-bindings->argon2-cffi>=21.1->jupyter-server<3,>=2.4.0->notebook) (2.22)\n",
      "Requirement already satisfied: soupsieve>1.2 in c:\\users\\илья\\appdata\\local\\programs\\python\\python39\\lib\\site-packages (from beautifulsoup4->nbconvert>=6.4.4->jupyter-server<3,>=2.4.0->notebook) (2.6)\n",
      "Requirement already satisfied: arrow>=0.15.0 in c:\\users\\илья\\appdata\\local\\programs\\python\\python39\\lib\\site-packages (from isoduration->jsonschema[format-nongpl]>=4.18.0->jupyter-events>=0.11.0->jupyter-server<3,>=2.4.0->notebook) (1.3.0)\n",
      "Requirement already satisfied: types-python-dateutil>=2.8.10 in c:\\users\\илья\\appdata\\local\\programs\\python\\python39\\lib\\site-packages (from arrow>=0.15.0->isoduration->jsonschema[format-nongpl]>=4.18.0->jupyter-events>=0.11.0->jupyter-server<3,>=2.4.0->notebook) (2.9.0.20241206)\n",
      "Requirement already satisfied: executing>=1.2.0 in c:\\users\\илья\\appdata\\roaming\\python\\python39\\site-packages (from stack-data->ipython>=7.23.1->ipykernel>=6.5.0->jupyterlab<4.4,>=4.3.6->notebook) (2.2.0)\n",
      "Requirement already satisfied: asttokens>=2.1.0 in c:\\users\\илья\\appdata\\roaming\\python\\python39\\site-packages (from stack-data->ipython>=7.23.1->ipykernel>=6.5.0->jupyterlab<4.4,>=4.3.6->notebook) (3.0.0)\n",
      "Requirement already satisfied: pure-eval in c:\\users\\илья\\appdata\\roaming\\python\\python39\\site-packages (from stack-data->ipython>=7.23.1->ipykernel>=6.5.0->jupyterlab<4.4,>=4.3.6->notebook) (0.2.3)\n",
      "Note: you may need to restart the kernel to use updated packages.\n"
     ]
    },
    {
     "name": "stderr",
     "output_type": "stream",
     "text": [
      "WARNING: You are using pip version 21.2.4; however, version 25.0.1 is available.\n",
      "You should consider upgrading via the 'c:\\Users\\Илья\\AppData\\Local\\Programs\\Python\\Python39\\python.exe -m pip install --upgrade pip' command.\n"
     ]
    }
   ],
   "source": [
    "pip install notebook"
   ]
  },
  {
   "cell_type": "code",
   "execution_count": null,
   "metadata": {},
   "outputs": [],
   "source": []
  }
 ],
 "metadata": {
  "kernelspec": {
   "display_name": "Python 3",
   "language": "python",
   "name": "python3"
  },
  "language_info": {
   "codemirror_mode": {
    "name": "ipython",
    "version": 3
   },
   "file_extension": ".py",
   "mimetype": "text/x-python",
   "name": "python",
   "nbconvert_exporter": "python",
   "pygments_lexer": "ipython3",
   "version": "3.9.10"
  }
 },
 "nbformat": 4,
 "nbformat_minor": 2
}
